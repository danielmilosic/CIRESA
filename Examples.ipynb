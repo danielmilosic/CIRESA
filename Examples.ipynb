{
 "cells": [
  {
   "cell_type": "markdown",
   "metadata": {},
   "source": [
    "# CIRESA"
   ]
  },
  {
   "cell_type": "markdown",
   "metadata": {},
   "source": [
    "### CIRESA is a tool for finding, analyzing and comparing co-rotating interaction regions (CIRs).\n",
    "\n",
    "### Here are some example usages"
   ]
  },
  {
   "cell_type": "markdown",
   "metadata": {},
   "source": [
    "### 1. Loading and plotting spacecraft data"
   ]
  },
  {
   "cell_type": "code",
   "execution_count": null,
   "metadata": {},
   "outputs": [],
   "source": [
    "from CIRESA import stereo_a, omni, solo, psp, maven\n",
    "\n",
    "data_df = psp.load('2022-10')\n",
    "psp.plot(data_df)\n"
   ]
  },
  {
   "cell_type": "code",
   "execution_count": null,
   "metadata": {},
   "outputs": [],
   "source": [
    "from CIRESA import stereo_a, omni, solo, psp, maven, CIR_detector, plot_heliosphere\n",
    "import matplotlib.pyplot as plt\n",
    "import pandas as pd\n",
    "\n",
    "month = '2020-04'\n",
    "data = omni.load(month)\n",
    "\n",
    "#omni.plot(data)\n",
    "#plt.show()\n",
    "\n",
    "CIR = CIR_detector.plot_and_choose_CIR(data)"
   ]
  },
  {
   "cell_type": "code",
   "execution_count": null,
   "metadata": {},
   "outputs": [],
   "source": [
    "CIR = CIR_detector.load_CIR(month='2020-02', concat=True)\n",
    "\n",
    "plot_heliosphere.plot_CIR_carrington(CIR, rlim=2)\n",
    "plt.show()"
   ]
  }
 ],
 "metadata": {
  "kernelspec": {
   "display_name": "Solar",
   "language": "python",
   "name": "python3"
  },
  "language_info": {
   "codemirror_mode": {
    "name": "ipython",
    "version": 3
   },
   "file_extension": ".py",
   "mimetype": "text/x-python",
   "name": "python",
   "nbconvert_exporter": "python",
   "pygments_lexer": "ipython3",
   "version": "3.11.4"
  }
 },
 "nbformat": 4,
 "nbformat_minor": 2
}
